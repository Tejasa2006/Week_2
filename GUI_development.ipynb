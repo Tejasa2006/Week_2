{
 "cells": [
  {
   "cell_type": "markdown",
   "id": "b6baf9d6-2b3b-41ac-9d7a-2f61fc61742f",
   "metadata": {},
   "source": [
    "# Graphical Used Interface"
   ]
  },
  {
   "cell_type": "code",
   "execution_count": 1,
   "id": "4890ebf5-b3c4-42b6-a191-78676c8c209b",
   "metadata": {},
   "outputs": [],
   "source": [
    "import tkinter as tk"
   ]
  },
  {
   "cell_type": "code",
   "execution_count": 53,
   "id": "97b1fdc9-f1b8-40dc-827f-77e57de163f6",
   "metadata": {},
   "outputs": [],
   "source": [
    "top = tk.Tk()\n",
    "\n",
    "top.title(\"My Application\")\n",
    "top.geometry('500x400')\n",
    "\n",
    "n1 = tk.Button(top, text = \"click here\", bg = 'orange').grid(column=0,row=1)\n",
    "el = tk.Entry(top).grid(column = 1,row = 1)\n",
    "t1 = tk.Text(top).grid(column = 2,row = 2)\n",
    "l1 = tk.Label(top, text = 'welcome',font = ('Ariel Bold',50)).grid(column=2,row=2)\n",
    "\n",
    "top.mainloop() # Does'nt close until the file is closed manually"
   ]
  },
  {
   "cell_type": "code",
   "execution_count": 35,
   "id": "a30959b2-2e99-43b3-9432-2982082963a3",
   "metadata": {},
   "outputs": [],
   "source": [
    "import tkinter  as tk\n",
    "from tkinter import BooleanVar\n",
    "from tkinter.ttk import*\n",
    "from tkinter import scrolledtext\n",
    "from tkinter import messagebox\n",
    "\n",
    "top = tk.Tk()\n",
    "\n",
    "top.title(\"My Application\")\n",
    "top.geometry('500x400')\n",
    "\n",
    "el = tk.Entry(top).grid(column = 1,row = 1)\n",
    "n1 = tk.Button(top, text = \"click here\", bg = 'orange').grid(column=0,row=1)\n",
    "#el = tk.Entry(top).grid(column = 1,row = 1)\n",
    "t1 = tk.Text(top).grid(column = 2,row = 2)\n",
    "l1 = tk.Label(top, text = 'welcome',font = ('Ariel Bold',50)).grid(column=2,row=2)\n",
    "\n",
    "# Combo Box\n",
    "combo = Combobox(top)\n",
    "combo['values'] = [1,2,3,4,'next']\n",
    "combo.current(2)\n",
    "combo.grid(column=0,row=0)\n",
    "\n",
    "# check Button\n",
    "ch = BooleanVar()\n",
    "ch.set(True)\n",
    "cb = Checkbutton(top,text = 'Done', var = ch,width = 30).grid(column=3, row=1)\n",
    "\n",
    "# Scrolled Text\n",
    "st = scrolledtext.ScrolledText(top,height=10,width=40).grid(column=3, row=3)\n",
    "top.mainloop()"
   ]
  },
  {
   "cell_type": "code",
   "execution_count": 54,
   "id": "70777c4d-3416-4dec-b12f-1d61db7b06fb",
   "metadata": {},
   "outputs": [],
   "source": [
    "# Square of a number\n",
    "\n",
    "top = tk.Tk()\n",
    "top.title('Square')\n",
    "top.geometry('500x400')\n",
    "\n",
    "a = tk.IntVar()\n",
    "\n",
    "def square():\n",
    "    num = a.get()\n",
    "    sq = num * num\n",
    "    result = tk.Label(top, text = 'Square is %i'%sq).place(x = 120,y = 170)\n",
    "    messagebox.showinfo('result','Square is %i'%sq)  # 'result is the title of the message box'\n",
    "l = tk.Label(top,text = 'Input').place(x = 20,y = 100)\n",
    "e = tk.Entry(top,textvariable = a).place(x = 100,y = 100)\n",
    "b = tk.Button(top, text = 'Submit', bg='Orange', command = square).place(x = 120, y = 150)\n",
    "\n",
    "top.mainloop()"
   ]
  },
  {
   "cell_type": "code",
   "execution_count": 71,
   "id": "4dd5fa29-bb7c-49c7-869d-10238f2d5607",
   "metadata": {},
   "outputs": [],
   "source": [
    "# create for addition, sub ,mul,div of 2 numbers\n",
    "\n",
    "top = tk.Tk()\n",
    "top.title('Calculation')\n",
    "top.geometry('500x400')\n",
    "\n",
    "a = tk.IntVar()\n",
    "b = tk.IntVar() \n",
    "\n",
    "def addition():\n",
    "    num = a.get()\n",
    "    num2 = b.get()\n",
    "    add = num + num2\n",
    "    result = tk.Label(top, text = 'Addition is %i'%add).place(x = 120,y = 170)\n",
    "    messagebox.showinfo('result','Addition of two numbers is %i'%add)\n",
    "\n",
    "def substraction():\n",
    "    num = a.get()\n",
    "    num2 = b.get()\n",
    "    sub = num - num2\n",
    "    result = tk.Label(top, text = 'substraction is %i'%sub).place(x = 140,y = 200)\n",
    "    messagebox.showinfo('result','substraction of two numbers is %i'%sub)\n",
    "    \n",
    "def multiplication():\n",
    "    num = a.get()\n",
    "    num2 = b.get()\n",
    "    mul = num * num2\n",
    "    result = tk.Label(top, text = 'multiplition is %i'%mul).place(x = 120,y = 170)\n",
    "    messagebox.showinfo('result','multiplition of two numbers is %i'%mul)\n",
    "\n",
    "def division():\n",
    "    num = a.get()\n",
    "    num2 = b.get()\n",
    "    div = num / num2\n",
    "    result = tk.Label(top, text = 'division is %i'%div).place(x = 120,y = 170)\n",
    "    messagebox.showinfo('result','division of two numbers is %i'%div)\n",
    "    \n",
    "l = tk.Label(top,text = 'Input').place(x = 20,y = 100)\n",
    "e = tk.Entry(top,textvariable = a).place(x = 100,y = 100)\n",
    "l2 = tk.Label(top,text = 'Input').place(x = 20,y = 130)\n",
    "e1 = tk.Entry(top,textvariable = b).place(x = 100,y = 130)\n",
    "b1 = tk.Button(top, text = 'Addition', bg='Orange', command = addition,cursor = 'hand2',width = 10).place(x = 120, y = 200)\n",
    "b2 = tk.Button(top, text = 'substraction', bg='Green', command = substraction,cursor = 'hand2',width = 10).place(x = 120, y = 230)\n",
    "b3 = tk.Button(top, text = 'multiplication', bg='Blue', command = multiplication,cursor = 'hand2',width = 10).place(x = 120, y = 260)\n",
    "b4 = tk.Button(top, text = 'division', bg='red', command = division,cursor = 'hand2',width = 10).place(x = 120, y = 290)\n",
    "top.mainloop()"
   ]
  },
  {
   "cell_type": "code",
   "execution_count": 72,
   "id": "42003038-15d9-4fd4-8881-1d632ef73d18",
   "metadata": {},
   "outputs": [
    {
     "ename": "NameError",
     "evalue": "name 'arr1' is not defined",
     "output_type": "error",
     "traceback": [
      "\u001b[1;31m---------------------------------------------------------------------------\u001b[0m",
      "\u001b[1;31mNameError\u001b[0m                                 Traceback (most recent call last)",
      "Cell \u001b[1;32mIn[72], line 1\u001b[0m\n\u001b[1;32m----> 1\u001b[0m arr1\u001b[38;5;241m.\u001b[39mshape\n",
      "\u001b[1;31mNameError\u001b[0m: name 'arr1' is not defined"
     ]
    }
   ],
   "source": [
    "arr1.shape"
   ]
  },
  {
   "cell_type": "code",
   "execution_count": null,
   "id": "51228e0d-dc6b-435c-afa8-b895762cb5a7",
   "metadata": {},
   "outputs": [],
   "source": []
  }
 ],
 "metadata": {
  "kernelspec": {
   "display_name": "Python 3 (ipykernel)",
   "language": "python",
   "name": "python3"
  },
  "language_info": {
   "codemirror_mode": {
    "name": "ipython",
    "version": 3
   },
   "file_extension": ".py",
   "mimetype": "text/x-python",
   "name": "python",
   "nbconvert_exporter": "python",
   "pygments_lexer": "ipython3",
   "version": "3.11.7"
  }
 },
 "nbformat": 4,
 "nbformat_minor": 5
}
