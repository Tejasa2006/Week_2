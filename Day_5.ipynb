{
 "cells": [
  {
   "cell_type": "code",
   "execution_count": 10,
   "id": "47ad48dc-a174-4f44-9c95-a582c2584880",
   "metadata": {},
   "outputs": [],
   "source": [
    "f = open ('maha.txt', 'r')"
   ]
  },
  {
   "cell_type": "code",
   "execution_count": 11,
   "id": "ff57e168-4ec4-4581-881c-6ffbea59bee6",
   "metadata": {},
   "outputs": [
    {
     "name": "stdout",
     "output_type": "stream",
     "text": [
      "maha.txt\n"
     ]
    }
   ],
   "source": [
    "print(f.name)"
   ]
  },
  {
   "cell_type": "code",
   "execution_count": 12,
   "id": "60a6440d-deee-4d37-9662-3855229f0aef",
   "metadata": {},
   "outputs": [
    {
     "name": "stdout",
     "output_type": "stream",
     "text": [
      "Tanvi is a name of Sanskrit origin, commonly found in India. It carries the beautiful meaning of \"beautiful\" or \"delicate.\" It reflects the essence of femininity and grace, embodying qualities of elegance and charm. Those named Tanvi often possess a serene demeanor and a gentle strength, symbolizing inner beauty and resilience.\n"
     ]
    }
   ],
   "source": [
    "print(f.read())"
   ]
  },
  {
   "cell_type": "code",
   "execution_count": 13,
   "id": "455c6b5d-5b6f-4dde-a3cd-709fbdf42bbc",
   "metadata": {},
   "outputs": [
    {
     "name": "stdout",
     "output_type": "stream",
     "text": [
      "r\n"
     ]
    }
   ],
   "source": [
    "print(f.mode)"
   ]
  },
  {
   "cell_type": "code",
   "execution_count": 14,
   "id": "626d5fb9-5d82-46ce-991b-c26bb5d5fe4a",
   "metadata": {},
   "outputs": [],
   "source": [
    "f.close()"
   ]
  },
  {
   "cell_type": "code",
   "execution_count": 15,
   "id": "9005d4e9-f4b1-41b5-8a6f-7b6cae55a84b",
   "metadata": {},
   "outputs": [
    {
     "data": {
      "text/plain": [
       "<_io.TextIOWrapper name='maha.txt' mode='r' encoding='cp1252'>"
      ]
     },
     "execution_count": 15,
     "metadata": {},
     "output_type": "execute_result"
    }
   ],
   "source": [
    "f"
   ]
  },
  {
   "cell_type": "code",
   "execution_count": 16,
   "id": "a6f89a82-abb1-4000-a4ac-451ba0f650a8",
   "metadata": {},
   "outputs": [
    {
     "data": {
      "text/plain": [
       "True"
      ]
     },
     "execution_count": 16,
     "metadata": {},
     "output_type": "execute_result"
    }
   ],
   "source": [
    "f.closed"
   ]
  },
  {
   "cell_type": "code",
   "execution_count": 18,
   "id": "70936db8-a999-47bb-bc4e-61da664d8b73",
   "metadata": {},
   "outputs": [],
   "source": [
    "with open(\"maha.txt\",\"r\") as f:\n",
    "    pass"
   ]
  },
  {
   "cell_type": "code",
   "execution_count": 19,
   "id": "0dc4d277-b9eb-4c56-a915-e126836362f8",
   "metadata": {},
   "outputs": [
    {
     "data": {
      "text/plain": [
       "True"
      ]
     },
     "execution_count": 19,
     "metadata": {},
     "output_type": "execute_result"
    }
   ],
   "source": [
    "f.closed"
   ]
  },
  {
   "cell_type": "code",
   "execution_count": 20,
   "id": "26e5f114-dcc5-47c7-8e09-399620c21968",
   "metadata": {},
   "outputs": [
    {
     "name": "stdout",
     "output_type": "stream",
     "text": [
      "Tanvi is a name of Sanskrit origin, commonly found in India. It carries the beautiful meaning of \"beautiful\" or \"delicate.\" It reflects the essence of femininity and grace, embodying qualities of elegance and charm. Those named Tanvi often possess a serene demeanor and a gentle strength, symbolizing inner beauty and resilience.\n"
     ]
    }
   ],
   "source": [
    "with open(\"maha.txt\",\"r\") as f:\n",
    "    content = f.read()\n",
    "    print(content)"
   ]
  },
  {
   "cell_type": "code",
   "execution_count": 22,
   "id": "1e665464-dba0-4b52-a6f2-964ca6903c0a",
   "metadata": {},
   "outputs": [
    {
     "name": "stdout",
     "output_type": "stream",
     "text": [
      "['this is first line\\n', 'this is second line \\n', 'this is third line']\n"
     ]
    }
   ],
   "source": [
    "with open(\"text1.txt\",\"r\") as f:\n",
    "    content = f.readlines()\n",
    "    print(content)\n",
    "    "
   ]
  },
  {
   "cell_type": "code",
   "execution_count": 23,
   "id": "14c2f7da-ca8f-4271-9f06-d8e05f91f87c",
   "metadata": {},
   "outputs": [
    {
     "name": "stdout",
     "output_type": "stream",
     "text": [
      "['this is first line\\n']\n"
     ]
    }
   ],
   "source": [
    "with open(\"text1.txt\",\"r\") as f:\n",
    "    content = f.readlines(1)\n",
    "    print(content)\n",
    "    "
   ]
  },
  {
   "cell_type": "code",
   "execution_count": 24,
   "id": "f04086f3-6aa6-4a11-8ea7-fcc02631a397",
   "metadata": {},
   "outputs": [
    {
     "name": "stdout",
     "output_type": "stream",
     "text": [
      "this is first line\n",
      "\n"
     ]
    }
   ],
   "source": [
    "with open(\"text1.txt\",\"r\") as f:\n",
    "    content = f.readline()\n",
    "    print(content)"
   ]
  },
  {
   "cell_type": "code",
   "execution_count": 25,
   "id": "c81761ed-dc5f-43f2-a0a8-e7747480f7ab",
   "metadata": {},
   "outputs": [
    {
     "name": "stdout",
     "output_type": "stream",
     "text": [
      "this is first line\n",
      "\n",
      "this is second line \n",
      "\n"
     ]
    }
   ],
   "source": [
    "with open(\"text1.txt\",\"r\") as f:\n",
    "    content = f.readline()\n",
    "    print(content)\n",
    "    content = f.readline()\n",
    "    print(content)"
   ]
  },
  {
   "cell_type": "code",
   "execution_count": 30,
   "id": "4ba5568c-57c1-46e6-91e2-cd997fb9ace0",
   "metadata": {},
   "outputs": [
    {
     "name": "stdout",
     "output_type": "stream",
     "text": [
      "this is first line\n",
      " this is second line \n",
      " this is third line "
     ]
    }
   ],
   "source": [
    "with open(\"text1.txt\",\"r\") as f:\n",
    "    for line in f:\n",
    "        print(line, end = \" \")"
   ]
  },
  {
   "cell_type": "code",
   "execution_count": 34,
   "id": "07cce37a-885d-4f13-a470-f47a908a69c6",
   "metadata": {},
   "outputs": [
    {
     "name": "stdout",
     "output_type": "stream",
     "text": [
      "thi\n"
     ]
    }
   ],
   "source": [
    "with open(\"text1.txt\",\"r\") as f:\n",
    "    content = f.read(3)\n",
    "    print(content)"
   ]
  },
  {
   "cell_type": "code",
   "execution_count": 40,
   "id": "3a88e1fb-898a-4d43-a139-8d570b1e3ded",
   "metadata": {},
   "outputs": [
    {
     "name": "stdout",
     "output_type": "stream",
     "text": [
      "this *is fi*rst l*ine\n",
      "t*his i*s sec*ond l*ine \n",
      "*this *is th*ird l*ine\n",
      "t*his i*s fou*rth l*ine\n",
      "t*his i*s fit*hline*"
     ]
    }
   ],
   "source": [
    "# use while loop to read entire file \n",
    "\n",
    "with open(\"text1.txt\",\"r\") as f:\n",
    "    n = 5\n",
    "\n",
    "    content = f.read(n)\n",
    "    while len(content) > 0:\n",
    "        print(content, end = \"*\")\n",
    "        content = f.read(n)"
   ]
  },
  {
   "cell_type": "code",
   "execution_count": 43,
   "id": "e8547568-e4e4-4bed-9843-37cf75e5f157",
   "metadata": {},
   "outputs": [
    {
     "name": "stdout",
     "output_type": "stream",
     "text": [
      "this \n",
      "this \n"
     ]
    }
   ],
   "source": [
    "# in the second phase start from the start again\n",
    "with open(\"text1.txt\",\"r\") as f:\n",
    "    size = 5\n",
    "    content = f.read(size)\n",
    "    print(content)\n",
    "    f.seek(0)  #will  start from the beginning\n",
    "    content = f.read(size)\n",
    "    print(content)"
   ]
  },
  {
   "cell_type": "markdown",
   "id": "9afe320c-c6d8-4122-891f-0b55ee425a15",
   "metadata": {},
   "source": [
    "### write"
   ]
  },
  {
   "cell_type": "code",
   "execution_count": 44,
   "id": "14a4f3f4-9ae9-4fd0-985c-de21de83af3e",
   "metadata": {},
   "outputs": [],
   "source": [
    "with open('write.txt','w') as w:\n",
    "    pass"
   ]
  },
  {
   "cell_type": "code",
   "execution_count": 46,
   "id": "0eae23e0-221a-43ae-84dc-b0532c94f8e8",
   "metadata": {},
   "outputs": [],
   "source": [
    "with open('write.txt','w') as w:\n",
    "    w.write('My name is Tanvi')"
   ]
  },
  {
   "cell_type": "code",
   "execution_count": 47,
   "id": "9b5f838d-9202-4c58-84dc-3cf4b4333ac8",
   "metadata": {},
   "outputs": [],
   "source": [
    "with open('write.txt','w') as w:\n",
    "    w.write('My name is Tanvi')\n",
    "    w.write('My name is Tanya seth')"
   ]
  },
  {
   "cell_type": "code",
   "execution_count": 48,
   "id": "9516cd73-f866-436d-bf89-6a60481abe6c",
   "metadata": {},
   "outputs": [],
   "source": [
    "with open('write.txt','w') as w:\n",
    "    w.write('My name is Tanvi')\n",
    "    w.seek(0)\n",
    "    w.write('My name is Tanya seth')"
   ]
  },
  {
   "cell_type": "code",
   "execution_count": 51,
   "id": "a1cd4eb2-c373-45d7-b653-d7dfc645d372",
   "metadata": {},
   "outputs": [],
   "source": [
    "with open('write.txt','w') as w:\n",
    "    w.write('My name is Tanvi')\n",
    "    w.seek(0)\n",
    "    w.write('yediee')"
   ]
  },
  {
   "cell_type": "code",
   "execution_count": 57,
   "id": "2b74c9c8-9813-43f7-8309-6724a406c89c",
   "metadata": {},
   "outputs": [],
   "source": [
    "# create a new file which will copy of maha.txt\n",
    "\n",
    "with open('maha.txt','r') as rf:\n",
    "    with open('maha_copy.txt','w') as w:\n",
    "        for line in rf:\n",
    "            w.write(line)\n",
    "    "
   ]
  },
  {
   "cell_type": "code",
   "execution_count": 65,
   "id": "0b18cf30-8a88-4517-aade-ba8dab9d226d",
   "metadata": {},
   "outputs": [
    {
     "ename": "SyntaxError",
     "evalue": "(unicode error) 'unicodeescape' codec can't decode bytes in position 2-3: truncated \\UXXXXXXXX escape (1461460215.py, line 3)",
     "output_type": "error",
     "traceback": [
      "\u001b[1;36m  Cell \u001b[1;32mIn[65], line 3\u001b[1;36m\u001b[0m\n\u001b[1;33m    with open(\"C:\\Users\\lenovo\\Pictures\\Camera Roll\\WIN_20240611_11_28_40_Pro.jpg\",'rb') as f:\u001b[0m\n\u001b[1;37m                                                                                  ^\u001b[0m\n\u001b[1;31mSyntaxError\u001b[0m\u001b[1;31m:\u001b[0m (unicode error) 'unicodeescape' codec can't decode bytes in position 2-3: truncated \\UXXXXXXXX escape\n"
     ]
    }
   ],
   "source": [
    "# image \n",
    "\n",
    "with open(\"C:\\Users\\lenovo\\Pictures\\Camera Roll\\WIN_20240611_11_28_40_Pro.jpg\",'rb') as f:\n",
    "    with open('Image_copy.txt','ig') as w:\n",
    "        for line in f:\n",
    "            w.write(line)"
   ]
  },
  {
   "cell_type": "code",
   "execution_count": 5,
   "id": "4545cb1c-7fcf-4fbe-826c-d34063e42449",
   "metadata": {},
   "outputs": [],
   "source": [
    "with open(\"win.jpg\",'rb') as f:\n",
    "    with open('Image_copy','wb') as w:\n",
    "        for line in f:\n",
    "            w.write(line)"
   ]
  },
  {
   "cell_type": "markdown",
   "id": "d977d7aa-b195-4960-bf02-d8920384be47",
   "metadata": {},
   "source": [
    "## Exception handling"
   ]
  },
  {
   "cell_type": "code",
   "execution_count": null,
   "id": "47328c4a-20b4-4266-9ce9-48ae9a2f35ef",
   "metadata": {},
   "outputs": [],
   "source": []
  }
 ],
 "metadata": {
  "kernelspec": {
   "display_name": "Python 3 (ipykernel)",
   "language": "python",
   "name": "python3"
  },
  "language_info": {
   "codemirror_mode": {
    "name": "ipython",
    "version": 3
   },
   "file_extension": ".py",
   "mimetype": "text/x-python",
   "name": "python",
   "nbconvert_exporter": "python",
   "pygments_lexer": "ipython3",
   "version": "3.11.7"
  }
 },
 "nbformat": 4,
 "nbformat_minor": 5
}
