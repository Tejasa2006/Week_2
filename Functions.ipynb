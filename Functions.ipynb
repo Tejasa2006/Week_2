{
 "cells": [
  {
   "cell_type": "code",
   "execution_count": 5,
   "id": "7e2ff6b0-3f3c-42df-9481-01d1906bac9a",
   "metadata": {},
   "outputs": [
    {
     "name": "stdout",
     "output_type": "stream",
     "text": [
      "hello\n",
      "hi\n",
      "ok\n"
     ]
    }
   ],
   "source": [
    "def showw():\n",
    "    print('hello')\n",
    "    print ('hi')\n",
    "    print('ok')\n",
    "showw()   "
   ]
  },
  {
   "cell_type": "code",
   "execution_count": 1,
   "id": "312f356d-1a0f-4438-94fc-5dab6785ef85",
   "metadata": {},
   "outputs": [],
   "source": [
    "# parameterised functions\n",
    "\n",
    "def square(n):\n",
    "    result = n * n\n",
    "    print('square is',result)"
   ]
  },
  {
   "cell_type": "code",
   "execution_count": 2,
   "id": "d8741d94-7940-4013-9c3d-88bdda0d84d3",
   "metadata": {},
   "outputs": [
    {
     "name": "stdout",
     "output_type": "stream",
     "text": [
      "square is 100\n"
     ]
    }
   ],
   "source": [
    "square(10)"
   ]
  },
  {
   "cell_type": "code",
   "execution_count": 8,
   "id": "ad4d6d76-1c93-47a1-af05-a01e14bbb2b3",
   "metadata": {},
   "outputs": [
    {
     "name": "stdin",
     "output_type": "stream",
     "text": [
      "enter the number 5\n"
     ]
    },
    {
     "name": "stdout",
     "output_type": "stream",
     "text": [
      "square is 25\n"
     ]
    }
   ],
   "source": [
    "num = int(input('enter the number'))\n",
    "square(num)"
   ]
  },
  {
   "cell_type": "code",
   "execution_count": 10,
   "id": "d495f110-4327-433c-88f3-14252b2f2419",
   "metadata": {},
   "outputs": [],
   "source": [
    "# multiparameterized function\n",
    "\n",
    "def largest (a,b):\n",
    "    if a > b:\n",
    "        print(a,'is greater')\n",
    "    elif a == b:\n",
    "        print('equal')\n",
    "    else:\n",
    "        print(b,'is greater')"
   ]
  },
  {
   "cell_type": "code",
   "execution_count": 12,
   "id": "51af6fda-b249-4d94-a990-d47e86974745",
   "metadata": {},
   "outputs": [
    {
     "name": "stdout",
     "output_type": "stream",
     "text": [
      "78 is greater\n"
     ]
    }
   ],
   "source": [
    "largest(45,78)"
   ]
  },
  {
   "cell_type": "code",
   "execution_count": 13,
   "id": "3e981a76-23bc-4845-8db9-eceafa8b59bd",
   "metadata": {},
   "outputs": [],
   "source": [
    "# write a function which will print a string n number of times\n",
    "\n",
    "def dis(name,n):\n",
    "    for i in range(n):\n",
    "        print(name)"
   ]
  },
  {
   "cell_type": "code",
   "execution_count": 14,
   "id": "a2cfa638-fee2-471c-822c-8d3f4c0821ac",
   "metadata": {},
   "outputs": [
    {
     "name": "stdout",
     "output_type": "stream",
     "text": [
      "pune\n",
      "pune\n",
      "pune\n",
      "pune\n",
      "pune\n",
      "pune\n",
      "pune\n"
     ]
    }
   ],
   "source": [
    "dis('pune',7)"
   ]
  },
  {
   "cell_type": "code",
   "execution_count": 15,
   "id": "44e0a9c7-6f4f-44a7-8e3b-639a22448407",
   "metadata": {},
   "outputs": [],
   "source": [
    "# function for factorial\n",
    "\n",
    "def facto(n):\n",
    "    fact = 1\n",
    "    for i in range(1,n+1):\n",
    "        fact = fact * i\n",
    "    print(fact)"
   ]
  },
  {
   "cell_type": "code",
   "execution_count": 16,
   "id": "ca31022c-2bc5-4ee2-866c-31c6283229b1",
   "metadata": {},
   "outputs": [
    {
     "name": "stdout",
     "output_type": "stream",
     "text": [
      "120\n"
     ]
    }
   ],
   "source": [
    "facto(5)"
   ]
  },
  {
   "cell_type": "code",
   "execution_count": 17,
   "id": "9306ca58-3674-486b-862b-255ca7e98892",
   "metadata": {},
   "outputs": [],
   "source": [
    "# function returning values\n",
    "\n",
    "def square (n):\n",
    "    result = n * n\n",
    "    return result"
   ]
  },
  {
   "cell_type": "code",
   "execution_count": 18,
   "id": "d1bf8708-b6e2-4dbc-bd7a-45464cde569d",
   "metadata": {},
   "outputs": [
    {
     "data": {
      "text/plain": [
       "10000"
      ]
     },
     "execution_count": 18,
     "metadata": {},
     "output_type": "execute_result"
    }
   ],
   "source": [
    "square(100)"
   ]
  },
  {
   "cell_type": "markdown",
   "id": "de937b32-3ee6-4c00-a76f-cc03fa4e5741",
   "metadata": {},
   "source": [
    "#### difference between return and printm"
   ]
  },
  {
   "cell_type": "code",
   "execution_count": 20,
   "id": "dc5d7be4-c409-4f1d-ae57-fa6436f04148",
   "metadata": {},
   "outputs": [
    {
     "name": "stdout",
     "output_type": "stream",
     "text": [
      "15\n",
      "None\n",
      "15\n",
      "result None\n"
     ]
    }
   ],
   "source": [
    "def add(a, b):\n",
    "    result = a + b\n",
    "    print (result)\n",
    "    \n",
    "print(add(5, 10))\n",
    "\n",
    "op = add(5, 10)\n",
    "\n",
    "print('result',op)"
   ]
  },
  {
   "cell_type": "code",
   "execution_count": 21,
   "id": "226970fd-ccb3-46bd-bfd0-5f3c19a458e6",
   "metadata": {},
   "outputs": [
    {
     "name": "stdout",
     "output_type": "stream",
     "text": [
      "15\n",
      "result 15\n"
     ]
    }
   ],
   "source": [
    "def add(a, b):\n",
    "    result = a + b\n",
    "    return result\n",
    "    \n",
    "print(add(5, 10))\n",
    "\n",
    "op = add(5, 10)\n",
    "\n",
    "print('result',op)"
   ]
  },
  {
   "cell_type": "code",
   "execution_count": 24,
   "id": "bbb6f281-f3f3-4b7b-80f0-07505365cc26",
   "metadata": {},
   "outputs": [],
   "source": [
    "# perm and comb\n",
    "# ncr = n! / r!(n-r)!"
   ]
  },
  {
   "cell_type": "code",
   "execution_count": 28,
   "id": "b44f8320-2b05-4453-bedc-88bb581656a5",
   "metadata": {},
   "outputs": [],
   "source": [
    "def facto(n):\n",
    "    fact = 1\n",
    "    for i in range(1,n+1):\n",
    "        fact = fact * i\n",
    "    return(fact)"
   ]
  },
  {
   "cell_type": "code",
   "execution_count": 29,
   "id": "7f2c059b-01f8-4ee8-852a-2aa9faf840bc",
   "metadata": {},
   "outputs": [
    {
     "name": "stdin",
     "output_type": "stream",
     "text": [
      "total: 10\n",
      "combinations of:  3\n"
     ]
    },
    {
     "name": "stdout",
     "output_type": "stream",
     "text": [
      "120.0\n"
     ]
    }
   ],
   "source": [
    "n = int(input('total:'))\n",
    "r = int(input('combinations of: '))\n",
    "\n",
    "ncr = facto(n) / (facto(r)  * facto(n-r))\n",
    "print(ncr)"
   ]
  },
  {
   "cell_type": "code",
   "execution_count": 34,
   "id": "d5635f5f-8588-4ff3-bf9e-3263b2883f86",
   "metadata": {},
   "outputs": [],
   "source": [
    "def calc(n): # n is required 1 positional argument\n",
    "    sq = n * n\n",
    "    cu = n ** 3\n",
    "    return sq,cu"
   ]
  },
  {
   "cell_type": "code",
   "execution_count": 35,
   "id": "257d22c7-0b69-4002-b8e0-62ee0ec24c25",
   "metadata": {},
   "outputs": [
    {
     "data": {
      "text/plain": [
       "(25, 125)"
      ]
     },
     "execution_count": 35,
     "metadata": {},
     "output_type": "execute_result"
    }
   ],
   "source": [
    "calc(5)"
   ]
  },
  {
   "cell_type": "code",
   "execution_count": 36,
   "id": "9752fa67-e383-4a45-8fb4-89c1690079ff",
   "metadata": {},
   "outputs": [
    {
     "name": "stdin",
     "output_type": "stream",
     "text": [
      "Enter a Number 12\n"
     ]
    },
    {
     "name": "stdout",
     "output_type": "stream",
     "text": [
      "Square:-  144\n",
      "cube:-  1728\n"
     ]
    }
   ],
   "source": [
    "n = int(input('Enter a Number'))\n",
    "x , y = calc(n)\n",
    "print('Square:- ',x)\n",
    "print('cube:- ',y)"
   ]
  },
  {
   "cell_type": "code",
   "execution_count": 37,
   "id": "c8c50272-b04e-4a0c-9edb-330c39311cb1",
   "metadata": {},
   "outputs": [],
   "source": [
    "# Default parameters\n",
    "\n",
    "def add3(a = 5,b = 7,c = 10):\n",
    "    result = a+b+c\n",
    "    return result"
   ]
  },
  {
   "cell_type": "code",
   "execution_count": 38,
   "id": "f60008d3-fbd2-4cbd-bf87-2b44ea166723",
   "metadata": {},
   "outputs": [
    {
     "data": {
      "text/plain": [
       "22"
      ]
     },
     "execution_count": 38,
     "metadata": {},
     "output_type": "execute_result"
    }
   ],
   "source": [
    "add3()"
   ]
  },
  {
   "cell_type": "code",
   "execution_count": 39,
   "id": "5eb1f5e3-f34f-4bf4-8bed-24446e183e36",
   "metadata": {},
   "outputs": [
    {
     "data": {
      "text/plain": [
       "30"
      ]
     },
     "execution_count": 39,
     "metadata": {},
     "output_type": "execute_result"
    }
   ],
   "source": [
    "add3(10,10)"
   ]
  },
  {
   "cell_type": "code",
   "execution_count": 40,
   "id": "3a24ae9e-83ad-4261-a919-b16efebbc717",
   "metadata": {},
   "outputs": [
    {
     "data": {
      "text/plain": [
       "37"
      ]
     },
     "execution_count": 40,
     "metadata": {},
     "output_type": "execute_result"
    }
   ],
   "source": [
    "add3(a = 10,c = 20) # taking b as default value"
   ]
  },
  {
   "cell_type": "code",
   "execution_count": 41,
   "id": "ffa2c162-a7f9-4117-bbc6-f981d5e66cce",
   "metadata": {},
   "outputs": [],
   "source": [
    "def add3(b,a = 5,c = 10): # Should always take 1 positional argument before assigning the default parameters\n",
    "    result = a+b+c\n",
    "    return result"
   ]
  },
  {
   "cell_type": "code",
   "execution_count": 42,
   "id": "44c0e0ca-4318-4e8b-9c27-49961676b9b0",
   "metadata": {},
   "outputs": [
    {
     "data": {
      "text/plain": [
       "25"
      ]
     },
     "execution_count": 42,
     "metadata": {},
     "output_type": "execute_result"
    }
   ],
   "source": [
    "add3(10)"
   ]
  },
  {
   "cell_type": "code",
   "execution_count": 50,
   "id": "d3bb0ddc-42e1-464b-9df0-7d174f5883cb",
   "metadata": {},
   "outputs": [],
   "source": [
    "def in1(*args):\n",
    "    for i in args:\n",
    "        print(i)"
   ]
  },
  {
   "cell_type": "code",
   "execution_count": 51,
   "id": "1ff0dfcf-63a7-44d2-af44-4c379918f708",
   "metadata": {},
   "outputs": [
    {
     "name": "stdout",
     "output_type": "stream",
     "text": [
      "1\n",
      "2\n",
      "3\n",
      "4\n",
      "5\n",
      "6\n",
      "7\n"
     ]
    }
   ],
   "source": [
    "in1(1,2,3,4,5,6,7)"
   ]
  },
  {
   "cell_type": "code",
   "execution_count": 52,
   "id": "d221a68c-959a-4bfc-befa-deb4127558ec",
   "metadata": {},
   "outputs": [],
   "source": [
    "def in1 (*a):\n",
    "    print(*a)"
   ]
  },
  {
   "cell_type": "code",
   "execution_count": 53,
   "id": "9c7dc487-6cfa-470e-9f04-504536069d48",
   "metadata": {},
   "outputs": [
    {
     "name": "stdout",
     "output_type": "stream",
     "text": [
      "1 2 3 4 5 6 7\n"
     ]
    }
   ],
   "source": [
    "in1(1,2,3,4,5,6,7)"
   ]
  },
  {
   "cell_type": "code",
   "execution_count": 54,
   "id": "e281a18b-8d21-48e0-85c7-fbcdbd9cc53f",
   "metadata": {},
   "outputs": [],
   "source": [
    "## lambda Function \n",
    "\n",
    "square = lambda x: x * x"
   ]
  },
  {
   "cell_type": "code",
   "execution_count": 55,
   "id": "e6568d1b-a932-4f63-b7b9-804723e07dd0",
   "metadata": {},
   "outputs": [
    {
     "data": {
      "text/plain": [
       "25"
      ]
     },
     "execution_count": 55,
     "metadata": {},
     "output_type": "execute_result"
    }
   ],
   "source": [
    "square(5)"
   ]
  },
  {
   "cell_type": "code",
   "execution_count": 58,
   "id": "1a447b0d-3498-402c-b221-352849166cee",
   "metadata": {},
   "outputs": [],
   "source": [
    "add = lambda x,y: x + y"
   ]
  },
  {
   "cell_type": "code",
   "execution_count": 59,
   "id": "1d0b6894-3c67-4fe9-b11a-d6721f72a5dd",
   "metadata": {},
   "outputs": [
    {
     "data": {
      "text/plain": [
       "30"
      ]
     },
     "execution_count": 59,
     "metadata": {},
     "output_type": "execute_result"
    }
   ],
   "source": [
    "add(10,20)"
   ]
  },
  {
   "cell_type": "code",
   "execution_count": 61,
   "id": "d7a2c7b7-8f1a-49cc-83e2-28ce3612d55c",
   "metadata": {},
   "outputs": [],
   "source": [
    "# Filter\n",
    "\n",
    "num = [23,45,76,12,57]"
   ]
  },
  {
   "cell_type": "code",
   "execution_count": 62,
   "id": "31b96f71-00b7-42b3-936a-11e6cf3efa7f",
   "metadata": {},
   "outputs": [
    {
     "data": {
      "text/plain": [
       "[45, 76, 57]"
      ]
     },
     "execution_count": 62,
     "metadata": {},
     "output_type": "execute_result"
    }
   ],
   "source": [
    "new = filter(lambda x: x > 40,num)\n",
    "list(new)"
   ]
  },
  {
   "cell_type": "code",
   "execution_count": 63,
   "id": "01e043c2-055b-4953-a866-2a04ecb0ff70",
   "metadata": {},
   "outputs": [
    {
     "data": {
      "text/plain": [
       "[23, 45, 76, 12, 57]"
      ]
     },
     "execution_count": 63,
     "metadata": {},
     "output_type": "execute_result"
    }
   ],
   "source": [
    "num"
   ]
  },
  {
   "cell_type": "code",
   "execution_count": 65,
   "id": "3c66e9c0-529a-42ab-ac6b-e00560c0c85a",
   "metadata": {},
   "outputs": [
    {
     "data": {
      "text/plain": [
       "[11.5, 22.5, 38.0, 6.0, 28.5]"
      ]
     },
     "execution_count": 65,
     "metadata": {},
     "output_type": "execute_result"
    }
   ],
   "source": [
    "new1 = map(lambda x: x / 2,num)\n",
    "list(new1)"
   ]
  },
  {
   "cell_type": "code",
   "execution_count": 67,
   "id": "43f76d54-e559-4163-8aee-6f80c74d89aa",
   "metadata": {},
   "outputs": [
    {
     "data": {
      "text/plain": [
       "[False, True, True, False, True]"
      ]
     },
     "execution_count": 67,
     "metadata": {},
     "output_type": "execute_result"
    }
   ],
   "source": [
    "new = map(lambda x: x > 40,num)\n",
    "list(new)"
   ]
  },
  {
   "cell_type": "markdown",
   "id": "42bfa73c-0e2f-411b-9790-8bf9215dc830",
   "metadata": {},
   "source": [
    "#### Modules"
   ]
  },
  {
   "cell_type": "code",
   "execution_count": 68,
   "id": "abe7f2e0-70fc-41ad-8454-77e86f458bc4",
   "metadata": {},
   "outputs": [],
   "source": [
    "import math"
   ]
  },
  {
   "cell_type": "code",
   "execution_count": 73,
   "id": "15e35997-d7de-407d-a9c0-106a64dad8a6",
   "metadata": {},
   "outputs": [
    {
     "name": "stdout",
     "output_type": "stream",
     "text": [
      "Help on built-in module math:\n",
      "\n",
      "NAME\n",
      "    math\n",
      "\n",
      "DESCRIPTION\n",
      "    This module provides access to the mathematical functions\n",
      "    defined by the C standard.\n",
      "\n",
      "FUNCTIONS\n",
      "    acos(x, /)\n",
      "        Return the arc cosine (measured in radians) of x.\n",
      "        \n",
      "        The result is between 0 and pi.\n",
      "    \n",
      "    acosh(x, /)\n",
      "        Return the inverse hyperbolic cosine of x.\n",
      "    \n",
      "    asin(x, /)\n",
      "        Return the arc sine (measured in radians) of x.\n",
      "        \n",
      "        The result is between -pi/2 and pi/2.\n",
      "    \n",
      "    asinh(x, /)\n",
      "        Return the inverse hyperbolic sine of x.\n",
      "    \n",
      "    atan(x, /)\n",
      "        Return the arc tangent (measured in radians) of x.\n",
      "        \n",
      "        The result is between -pi/2 and pi/2.\n",
      "    \n",
      "    atan2(y, x, /)\n",
      "        Return the arc tangent (measured in radians) of y/x.\n",
      "        \n",
      "        Unlike atan(y/x), the signs of both x and y are considered.\n",
      "    \n",
      "    atanh(x, /)\n",
      "        Return the inverse hyperbolic tangent of x.\n",
      "    \n",
      "    cbrt(x, /)\n",
      "        Return the cube root of x.\n",
      "    \n",
      "    ceil(x, /)\n",
      "        Return the ceiling of x as an Integral.\n",
      "        \n",
      "        This is the smallest integer >= x.\n",
      "    \n",
      "    comb(n, k, /)\n",
      "        Number of ways to choose k items from n items without repetition and without order.\n",
      "        \n",
      "        Evaluates to n! / (k! * (n - k)!) when k <= n and evaluates\n",
      "        to zero when k > n.\n",
      "        \n",
      "        Also called the binomial coefficient because it is equivalent\n",
      "        to the coefficient of k-th term in polynomial expansion of the\n",
      "        expression (1 + x)**n.\n",
      "        \n",
      "        Raises TypeError if either of the arguments are not integers.\n",
      "        Raises ValueError if either of the arguments are negative.\n",
      "    \n",
      "    copysign(x, y, /)\n",
      "        Return a float with the magnitude (absolute value) of x but the sign of y.\n",
      "        \n",
      "        On platforms that support signed zeros, copysign(1.0, -0.0)\n",
      "        returns -1.0.\n",
      "    \n",
      "    cos(x, /)\n",
      "        Return the cosine of x (measured in radians).\n",
      "    \n",
      "    cosh(x, /)\n",
      "        Return the hyperbolic cosine of x.\n",
      "    \n",
      "    degrees(x, /)\n",
      "        Convert angle x from radians to degrees.\n",
      "    \n",
      "    dist(p, q, /)\n",
      "        Return the Euclidean distance between two points p and q.\n",
      "        \n",
      "        The points should be specified as sequences (or iterables) of\n",
      "        coordinates.  Both inputs must have the same dimension.\n",
      "        \n",
      "        Roughly equivalent to:\n",
      "            sqrt(sum((px - qx) ** 2.0 for px, qx in zip(p, q)))\n",
      "    \n",
      "    erf(x, /)\n",
      "        Error function at x.\n",
      "    \n",
      "    erfc(x, /)\n",
      "        Complementary error function at x.\n",
      "    \n",
      "    exp(x, /)\n",
      "        Return e raised to the power of x.\n",
      "    \n",
      "    exp2(x, /)\n",
      "        Return 2 raised to the power of x.\n",
      "    \n",
      "    expm1(x, /)\n",
      "        Return exp(x)-1.\n",
      "        \n",
      "        This function avoids the loss of precision involved in the direct evaluation of exp(x)-1 for small x.\n",
      "    \n",
      "    fabs(x, /)\n",
      "        Return the absolute value of the float x.\n",
      "    \n",
      "    factorial(n, /)\n",
      "        Find n!.\n",
      "        \n",
      "        Raise a ValueError if x is negative or non-integral.\n",
      "    \n",
      "    floor(x, /)\n",
      "        Return the floor of x as an Integral.\n",
      "        \n",
      "        This is the largest integer <= x.\n",
      "    \n",
      "    fmod(x, y, /)\n",
      "        Return fmod(x, y), according to platform C.\n",
      "        \n",
      "        x % y may differ.\n",
      "    \n",
      "    frexp(x, /)\n",
      "        Return the mantissa and exponent of x, as pair (m, e).\n",
      "        \n",
      "        m is a float and e is an int, such that x = m * 2.**e.\n",
      "        If x is 0, m and e are both 0.  Else 0.5 <= abs(m) < 1.0.\n",
      "    \n",
      "    fsum(seq, /)\n",
      "        Return an accurate floating point sum of values in the iterable seq.\n",
      "        \n",
      "        Assumes IEEE-754 floating point arithmetic.\n",
      "    \n",
      "    gamma(x, /)\n",
      "        Gamma function at x.\n",
      "    \n",
      "    gcd(*integers)\n",
      "        Greatest Common Divisor.\n",
      "    \n",
      "    hypot(...)\n",
      "        hypot(*coordinates) -> value\n",
      "        \n",
      "        Multidimensional Euclidean distance from the origin to a point.\n",
      "        \n",
      "        Roughly equivalent to:\n",
      "            sqrt(sum(x**2 for x in coordinates))\n",
      "        \n",
      "        For a two dimensional point (x, y), gives the hypotenuse\n",
      "        using the Pythagorean theorem:  sqrt(x*x + y*y).\n",
      "        \n",
      "        For example, the hypotenuse of a 3/4/5 right triangle is:\n",
      "        \n",
      "            >>> hypot(3.0, 4.0)\n",
      "            5.0\n",
      "    \n",
      "    isclose(a, b, *, rel_tol=1e-09, abs_tol=0.0)\n",
      "        Determine whether two floating point numbers are close in value.\n",
      "        \n",
      "          rel_tol\n",
      "            maximum difference for being considered \"close\", relative to the\n",
      "            magnitude of the input values\n",
      "          abs_tol\n",
      "            maximum difference for being considered \"close\", regardless of the\n",
      "            magnitude of the input values\n",
      "        \n",
      "        Return True if a is close in value to b, and False otherwise.\n",
      "        \n",
      "        For the values to be considered close, the difference between them\n",
      "        must be smaller than at least one of the tolerances.\n",
      "        \n",
      "        -inf, inf and NaN behave similarly to the IEEE 754 Standard.  That\n",
      "        is, NaN is not close to anything, even itself.  inf and -inf are\n",
      "        only close to themselves.\n",
      "    \n",
      "    isfinite(x, /)\n",
      "        Return True if x is neither an infinity nor a NaN, and False otherwise.\n",
      "    \n",
      "    isinf(x, /)\n",
      "        Return True if x is a positive or negative infinity, and False otherwise.\n",
      "    \n",
      "    isnan(x, /)\n",
      "        Return True if x is a NaN (not a number), and False otherwise.\n",
      "    \n",
      "    isqrt(n, /)\n",
      "        Return the integer part of the square root of the input.\n",
      "    \n",
      "    lcm(*integers)\n",
      "        Least Common Multiple.\n",
      "    \n",
      "    ldexp(x, i, /)\n",
      "        Return x * (2**i).\n",
      "        \n",
      "        This is essentially the inverse of frexp().\n",
      "    \n",
      "    lgamma(x, /)\n",
      "        Natural logarithm of absolute value of Gamma function at x.\n",
      "    \n",
      "    log(...)\n",
      "        log(x, [base=math.e])\n",
      "        Return the logarithm of x to the given base.\n",
      "        \n",
      "        If the base not specified, returns the natural logarithm (base e) of x.\n",
      "    \n",
      "    log10(x, /)\n",
      "        Return the base 10 logarithm of x.\n",
      "    \n",
      "    log1p(x, /)\n",
      "        Return the natural logarithm of 1+x (base e).\n",
      "        \n",
      "        The result is computed in a way which is accurate for x near zero.\n",
      "    \n",
      "    log2(x, /)\n",
      "        Return the base 2 logarithm of x.\n",
      "    \n",
      "    modf(x, /)\n",
      "        Return the fractional and integer parts of x.\n",
      "        \n",
      "        Both results carry the sign of x and are floats.\n",
      "    \n",
      "    nextafter(x, y, /)\n",
      "        Return the next floating-point value after x towards y.\n",
      "    \n",
      "    perm(n, k=None, /)\n",
      "        Number of ways to choose k items from n items without repetition and with order.\n",
      "        \n",
      "        Evaluates to n! / (n - k)! when k <= n and evaluates\n",
      "        to zero when k > n.\n",
      "        \n",
      "        If k is not specified or is None, then k defaults to n\n",
      "        and the function returns n!.\n",
      "        \n",
      "        Raises TypeError if either of the arguments are not integers.\n",
      "        Raises ValueError if either of the arguments are negative.\n",
      "    \n",
      "    pow(x, y, /)\n",
      "        Return x**y (x to the power of y).\n",
      "    \n",
      "    prod(iterable, /, *, start=1)\n",
      "        Calculate the product of all the elements in the input iterable.\n",
      "        \n",
      "        The default start value for the product is 1.\n",
      "        \n",
      "        When the iterable is empty, return the start value.  This function is\n",
      "        intended specifically for use with numeric values and may reject\n",
      "        non-numeric types.\n",
      "    \n",
      "    radians(x, /)\n",
      "        Convert angle x from degrees to radians.\n",
      "    \n",
      "    remainder(x, y, /)\n",
      "        Difference between x and the closest integer multiple of y.\n",
      "        \n",
      "        Return x - n*y where n*y is the closest integer multiple of y.\n",
      "        In the case where x is exactly halfway between two multiples of\n",
      "        y, the nearest even value of n is used. The result is always exact.\n",
      "    \n",
      "    sin(x, /)\n",
      "        Return the sine of x (measured in radians).\n",
      "    \n",
      "    sinh(x, /)\n",
      "        Return the hyperbolic sine of x.\n",
      "    \n",
      "    sqrt(x, /)\n",
      "        Return the square root of x.\n",
      "    \n",
      "    tan(x, /)\n",
      "        Return the tangent of x (measured in radians).\n",
      "    \n",
      "    tanh(x, /)\n",
      "        Return the hyperbolic tangent of x.\n",
      "    \n",
      "    trunc(x, /)\n",
      "        Truncates the Real x to the nearest Integral toward 0.\n",
      "        \n",
      "        Uses the __trunc__ magic method.\n",
      "    \n",
      "    ulp(x, /)\n",
      "        Return the value of the least significant bit of the float x.\n",
      "\n",
      "DATA\n",
      "    e = 2.718281828459045\n",
      "    inf = inf\n",
      "    nan = nan\n",
      "    pi = 3.141592653589793\n",
      "    tau = 6.283185307179586\n",
      "\n",
      "FILE\n",
      "    (built-in)\n",
      "\n",
      "\n"
     ]
    }
   ],
   "source": [
    "help(math)"
   ]
  },
  {
   "cell_type": "code",
   "execution_count": 70,
   "id": "8cf66aac-7f83-4438-bb97-18ee71526c10",
   "metadata": {},
   "outputs": [
    {
     "data": {
      "text/plain": [
       "10.0"
      ]
     },
     "execution_count": 70,
     "metadata": {},
     "output_type": "execute_result"
    }
   ],
   "source": [
    "math.sqrt(100)"
   ]
  },
  {
   "cell_type": "code",
   "execution_count": 71,
   "id": "11ba6e4f-d1ac-4b6e-acfc-0b9206c5e0d7",
   "metadata": {},
   "outputs": [
    {
     "data": {
      "text/plain": [
       "-0.9880316240928618"
      ]
     },
     "execution_count": 71,
     "metadata": {},
     "output_type": "execute_result"
    }
   ],
   "source": [
    "math.sin(30)"
   ]
  },
  {
   "cell_type": "code",
   "execution_count": 72,
   "id": "567b4dc4-7b11-493e-8660-05688f3755be",
   "metadata": {},
   "outputs": [
    {
     "data": {
      "text/plain": [
       "2.302585092994046"
      ]
     },
     "execution_count": 72,
     "metadata": {},
     "output_type": "execute_result"
    }
   ],
   "source": [
    "math.log(10)"
   ]
  },
  {
   "cell_type": "code",
   "execution_count": 80,
   "id": "71699896-b830-4077-a5e0-4e75dfccf36c",
   "metadata": {},
   "outputs": [
    {
     "name": "stdin",
     "output_type": "stream",
     "text": [
      "Enter a number 5\n"
     ]
    }
   ],
   "source": [
    "# five a radius and find area of circle\n",
    "\n",
    "r = float(input('Enter a number'))\n",
    "print = (math.pi * r * r )"
   ]
  },
  {
   "cell_type": "code",
   "execution_count": 3,
   "id": "5d21502c-a776-4cba-88e6-f3fc844a6761",
   "metadata": {},
   "outputs": [],
   "source": [
    "import time"
   ]
  },
  {
   "cell_type": "code",
   "execution_count": 4,
   "id": "2716fc66-1ed9-4c6c-85e2-ea3bf5911cbc",
   "metadata": {},
   "outputs": [
    {
     "data": {
      "text/plain": [
       "'Mon Jun 10 12:13:37 2024'"
      ]
     },
     "execution_count": 4,
     "metadata": {},
     "output_type": "execute_result"
    }
   ],
   "source": [
    "time.asctime()"
   ]
  },
  {
   "cell_type": "code",
   "execution_count": 6,
   "id": "db84676f-d6e5-425d-99d0-e78183eb3587",
   "metadata": {},
   "outputs": [
    {
     "name": "stdout",
     "output_type": "stream",
     "text": [
      "hello\n",
      "OK\n"
     ]
    }
   ],
   "source": [
    "print(\"hello\")\n",
    "time.sleep(5)\n",
    "print('OK')"
   ]
  },
  {
   "cell_type": "code",
   "execution_count": 7,
   "id": "53b66d74-76e2-4493-9ca9-9b2e1692ffc5",
   "metadata": {},
   "outputs": [],
   "source": [
    "# Giving an alias\n",
    "\n",
    "import math as m"
   ]
  },
  {
   "cell_type": "code",
   "execution_count": 8,
   "id": "49e8c6d6-77ee-46ca-83e1-3ea11dafbbb3",
   "metadata": {},
   "outputs": [
    {
     "data": {
      "text/plain": [
       "10.0"
      ]
     },
     "execution_count": 8,
     "metadata": {},
     "output_type": "execute_result"
    }
   ],
   "source": [
    "m.sqrt(100)"
   ]
  },
  {
   "cell_type": "code",
   "execution_count": 9,
   "id": "8b2f0658-4a52-46de-bc41-ec45916ea5fd",
   "metadata": {},
   "outputs": [
    {
     "data": {
      "text/plain": [
       "10.0"
      ]
     },
     "execution_count": 9,
     "metadata": {},
     "output_type": "execute_result"
    }
   ],
   "source": [
    "from math import sqrt, sin, pi\n",
    "\n",
    "sqrt(100)"
   ]
  },
  {
   "cell_type": "code",
   "execution_count": 10,
   "id": "bfb4d948-9f30-4703-abe4-0c9e6c2d2bbd",
   "metadata": {},
   "outputs": [
    {
     "data": {
      "text/plain": [
       "3.141592653589793"
      ]
     },
     "execution_count": 10,
     "metadata": {},
     "output_type": "execute_result"
    }
   ],
   "source": [
    "pi"
   ]
  },
  {
   "cell_type": "code",
   "execution_count": 12,
   "id": "5e68ac66-de1a-4e26-9cfc-995339362957",
   "metadata": {},
   "outputs": [
    {
     "data": {
      "text/plain": [
       "-0.5440211108893698"
      ]
     },
     "execution_count": 12,
     "metadata": {},
     "output_type": "execute_result"
    }
   ],
   "source": [
    "sin(10)"
   ]
  },
  {
   "cell_type": "code",
   "execution_count": null,
   "id": "76232915-efeb-47b6-a9c7-d543dbba1800",
   "metadata": {},
   "outputs": [],
   "source": []
  }
 ],
 "metadata": {
  "kernelspec": {
   "display_name": "Python 3 (ipykernel)",
   "language": "python",
   "name": "python3"
  },
  "language_info": {
   "codemirror_mode": {
    "name": "ipython",
    "version": 3
   },
   "file_extension": ".py",
   "mimetype": "text/x-python",
   "name": "python",
   "nbconvert_exporter": "python",
   "pygments_lexer": "ipython3",
   "version": "3.11.7"
  }
 },
 "nbformat": 4,
 "nbformat_minor": 5
}
