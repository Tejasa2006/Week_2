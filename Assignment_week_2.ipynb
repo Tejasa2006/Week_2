{
 "cells": [
  {
   "cell_type": "code",
   "execution_count": 15,
   "id": "d0abc413-09bd-4034-be46-3f2757fd79fc",
   "metadata": {},
   "outputs": [
    {
     "name": "stdout",
     "output_type": "stream",
     "text": [
      "BATSMAN\n",
      "If Runs = 5053 , Outs = 47 Then Batsman's Average =  75.41791044776119\n",
      "If Runs = 345 , Balls = 199 Then Batsman's Strikerate =  173.36683417085428\n",
      "BOWLER\n",
      "If Runs = 4987 , Wickets = 120 Then Bowler's Average =  41.55833333333333\n",
      "If Overs = 8 , Runs = 86 Then Bowler's Economy Rate =  10.75\n"
     ]
    }
   ],
   "source": [
    "'''Create a package named ‘cricket’ which will contain modules named\n",
    "batsman and bowler. Create following functions in respective modules.\n",
    "Import the package and call all these functions in your program\n",
    "batsman: findaverage(runs,matches), strikerate(runs,balls)\n",
    "bowler: findavg(runs,wickets), economyrate(overs, runs)'''\n",
    "\n",
    "\n",
    "from cricket import batsman as bt\n",
    "from cricket import bowler as bw\n",
    "print(\"BATSMAN\")\n",
    "print(\"If Runs = 5053 , Outs = 47 Then Batsman's Average = \",bt.findaverage(5053,67))\n",
    "print(\"If Runs = 345 , Balls = 199 Then Batsman's Strikerate = \",bt.strikerate(345,199))\n",
    "print(\"BOWLER\")\n",
    "print(\"If Runs = 4987 , Wickets = 120 Then Bowler's Average = \",bw.findavg(4987,120))\n",
    "print(\"If Overs = 8 , Runs = 86 Then Bowler's Economy Rate = \",bw.economyrate(8,86))"
   ]
  },
  {
   "cell_type": "code",
   "execution_count": 23,
   "id": "85ae7b5e-206b-4d27-9942-a55961085392",
   "metadata": {},
   "outputs": [
    {
     "name": "stdin",
     "output_type": "stream",
     "text": [
      "Enter a number 10\n"
     ]
    },
    {
     "data": {
      "text/plain": [
       "'not prime'"
      ]
     },
     "execution_count": 23,
     "metadata": {},
     "output_type": "execute_result"
    }
   ],
   "source": [
    "'''Write a Python function to find whether the number is prime or not'''\n",
    "\n",
    "num = int(input(\"Enter a number\"))\n",
    "def isPrime(num):\n",
    "    for i in range(2,num):\n",
    "        if num % i == 0:\n",
    "            return \"not prime\"\n",
    "            break\n",
    "        else:\n",
    "            return \"prime\"\n",
    "isPrime(num)\n",
    "            "
   ]
  },
  {
   "cell_type": "code",
   "execution_count": 25,
   "id": "025e710f-2db6-40aa-a773-53849b58b511",
   "metadata": {},
   "outputs": [
    {
     "name": "stdin",
     "output_type": "stream",
     "text": [
      "Enter a string racecar\n"
     ]
    },
    {
     "data": {
      "text/plain": [
       "True"
      ]
     },
     "execution_count": 25,
     "metadata": {},
     "output_type": "execute_result"
    }
   ],
   "source": [
    "'''Write a function is_palindrome(string) that takes a string as input and returns\n",
    "True if the string reads the same backward as forward (e.g., \"racecar\" is a palindrome)'''\n",
    "\n",
    "string1 = input('Enter a string')\n",
    "def is_polindrome(string):\n",
    "    rev = string[::-1]\n",
    "    if rev == string:\n",
    "        return True\n",
    "    else:\n",
    "        return False\n",
    "is_polindrome(string1)"
   ]
  },
  {
   "cell_type": "code",
   "execution_count": 48,
   "id": "618ed15c-0d85-44a9-bc84-a7621741a6c2",
   "metadata": {},
   "outputs": [
    {
     "name": "stdin",
     "output_type": "stream",
     "text": [
      " 123\n"
     ]
    },
    {
     "name": "stdout",
     "output_type": "stream",
     "text": [
      "Enter a list elements ['1', '2', '3']\n",
      "['1', '2', '3']\n"
     ]
    },
    {
     "data": {
      "text/plain": [
       "['3', '2', '1']"
      ]
     },
     "execution_count": 48,
     "metadata": {},
     "output_type": "execute_result"
    }
   ],
   "source": [
    "'''Write a function reverse_list(data) that takes a list as input and returns a new list\n",
    "with the elements in reverse order (e.g., reverse_list([1, 2, 3]) returns [3, 2, 1])'''\n",
    "\n",
    "list1 = list(input())\n",
    "print('Enter a list elements',list1)\n",
    "list2 = []\n",
    "def reverse_list(list1):\n",
    "   for i in list1:\n",
    "       list2.append(i)\n",
    "   print(list2)\n",
    "reverse_list(list1)\n",
    "list(reversed(list2))"
   ]
  },
  {
   "cell_type": "code",
   "execution_count": 51,
   "id": "0094e957-01c6-4f71-a340-6b6dc04c8643",
   "metadata": {},
   "outputs": [
    {
     "name": "stdin",
     "output_type": "stream",
     "text": [
      "enter your content tejas\n"
     ]
    },
    {
     "name": "stdout",
     "output_type": "stream",
     "text": [
      "your content is added\n"
     ]
    }
   ],
   "source": [
    "'''Write a function write_file(filename, content) that takes a filename and\n",
    "content as input and writes the content to the specified file'''\n",
    "\n",
    "complacement = input('enter your content')\n",
    "def write_file(filename,content):\n",
    "    with open(filename,'w') as w:\n",
    "        w.write(content)\n",
    "        print('your content is added')\n",
    "write_file('write1.txt',complacement)"
   ]
  },
  {
   "cell_type": "code",
   "execution_count": 54,
   "id": "6e24e5da-c6e1-4f10-b672-5c62bf8b0549",
   "metadata": {},
   "outputs": [
    {
     "name": "stdin",
     "output_type": "stream",
     "text": [
      "enter the file name writeee\n",
      "enter destiantion name vyefhj\n"
     ]
    }
   ],
   "source": [
    "'''Write a function copy_file(source_filename, destination_filename) that\n",
    "takes the source and destination filenames as input and copies the content of the source\n",
    "file to the destination file. Handle cases where the source file doesn't exist'''\n",
    "\n",
    "\n",
    "def copy_file(source_filename, destination_filename):\n",
    "    try:\n",
    "        with open(source_filename ,'r') as r:\n",
    "            with open(destination_filename,'w') as w:\n",
    "                for i in r:\n",
    "                    w.write(i)\n",
    "    except FileNotFound:\n",
    "        print('File is unavailable')\n",
    "    except exception as e:\n",
    "        print('Your error is',e)\n",
    "    else:\n",
    "        print(\"File copied\")\n",
    "source_filename = input(\"enter the file name\")\n",
    "destination_filename = input('enter destiantion name')\n",
    "copy_file = (source_filename,destination_filename)"
   ]
  },
  {
   "cell_type": "code",
   "execution_count": 62,
   "id": "e2e5e077-041f-4c57-82b3-d62399a9c168",
   "metadata": {},
   "outputs": [
    {
     "data": {
      "text/plain": [
       "array([[  5,  12],\n",
       "       [ 21,  32],\n",
       "       [168, 195]])"
      ]
     },
     "execution_count": 62,
     "metadata": {},
     "output_type": "execute_result"
    }
   ],
   "source": [
    "'''Implement a function to calculate the dot product of two NumPy arrays'''\n",
    "\n",
    "import numpy as np\n",
    "num1 = np.array([[1,2],[3,4],[12,13]])\n",
    "num2 = np.array([[5,6],[7,8],[14,15]])\n",
    "def dot_product(num1,num2):\n",
    "    result = num1 * num2\n",
    "    return result\n",
    "dot_product(num1,num2)\n",
    "#num1 = np.array([1,2],[3,4],[12,13])\n",
    "#num2 = np.array([5,6],[7,8],[14,15])"
   ]
  },
  {
   "cell_type": "code",
   "execution_count": 12,
   "id": "e33bc28a-e251-48a8-80f7-8c62ec886a67",
   "metadata": {},
   "outputs": [],
   "source": [
    "'''Design a currency converter GUI. Allow users to enter an amount and select the currencies they want to convert \n",
    "between (e.g., USD, EUR). Display the converted amount in the selected currency.'''\n",
    "\n",
    "import tkinter as tk\n",
    "\n",
    "top = tk.Tk()\n",
    "top.title('RADIO')\n",
    "top.geometry('500x400')\n",
    "\n",
    "def change_colour():\n",
    "    colour = colour_var.get()\n",
    "    if colour == 'Red':\n",
    "        top.configure(bg='Red')\n",
    "    elif colour == 'Green':\n",
    "        top.configure(bg='Green')\n",
    "    elif colour == 'Blue':\n",
    "        top.configure(bg='Blue')\n",
    "    elif colour == 'Yellow':\n",
    "        top.configure(bg='Yellow')\n",
    "    elif colour == 'Purple':\n",
    "        top.configure(bg='Purple')\n",
    "\n",
    "colour_var = tk.StringVar(value='white')\n",
    "r1 = tk.Radiobutton(top, text='Red', variable=colour_var, value='Red', command=change_colour, width=7)\n",
    "r1.grid(row=1, column=1, padx=0, pady=10)\n",
    "\n",
    "r2 = tk.Radiobutton(top, text='Green', variable=colour_var, value='Green', command=change_colour, width=7)\n",
    "r2.grid(row=2, column=1, padx=0, pady=10)\n",
    "\n",
    "r3 = tk.Radiobutton(top, text='Blue', variable=colour_var, value='Blue', command=change_colour, width=7)\n",
    "r3.grid(row=3, column=1, padx=0, pady=10)\n",
    "\n",
    "r4 = tk.Radiobutton(top, text='Yellow', variable=colour_var, value='Yellow', command=change_colour, width=7)\n",
    "r4.grid(row=4, column=1, padx=0, pady=10)\n",
    "\n",
    "r5 = tk.Radiobutton(top, text='Purple', variable=colour_var, value='Purple', command=change_colour, width=7)\n",
    "r5.grid(row=5, column=1, padx=0, pady=10)\n",
    "\n",
    "# Set the initial color after the mainloop starts\n",
    "top.after(0, change_colour)\n",
    "\n",
    "top.mainloop()\n"
   ]
  },
  {
   "cell_type": "code",
   "execution_count": 11,
   "id": "987a2cfc-1aba-4014-bf48-f91f3f28f894",
   "metadata": {},
   "outputs": [],
   "source": [
    "'''Implement a GUI with a radio button selection for choosing a favorite color (e.g., red, green, blue). Change the background color \n",
    "of the window based on the selected radio button.'''\n",
    "\n",
    "import tkinter as tk\n",
    "from tkinter import messagebox\n",
    "\n",
    "top = tk.Tk()\n",
    "top.title(\"Currency Calculator\")\n",
    "top.geometry(\"700x700\")\n",
    "top.configure(bg = \"cornsilk\")\n",
    "inr = tk.IntVar()\n",
    "#i  = tk.PhotoImage(file = \"\")\n",
    "#bg = tk.Label(top,image = i)\n",
    "#bg.place(relwidth=1, relheight=1)\n",
    "\n",
    "def usd():\n",
    "    a = inr.get()\n",
    "    u = a/83\n",
    "    messagebox.showinfo(\"converter\",\"USD = %i\" %u )\n",
    "def eur():\n",
    "    a = inr.get()\n",
    "    e = a/89\n",
    "    messagebox.showinfo(\"converter\",\"EUR = %i\" %e )\n",
    "def pound():\n",
    "    a = inr.get()\n",
    "    p = a/105\n",
    "    messagebox.showinfo(\"converter\",\"POUND = %i\" %p )\n",
    "def dinar():\n",
    "    a = inr.get()\n",
    "    d = a/272\n",
    "    messagebox.showinfo(\"converter\",\"DINAR = %i\" %d )\n",
    "l = tk.Label(top,text = \"Enter your Amount in INR \",font = \"khand\", bg = \"snow3\").place(x = 250, y = 150)\n",
    "e = tk.Entry(top, textvariable = inr,width = 30).place(x = 270, y = 190)\n",
    "b1 = tk.Button(top,text = \"USD\",width = 20,bg = \"NavajoWhite3\",command = usd).place(x = 290, y = 220)\n",
    "b2 = tk.Button(top,text = \"EUR\",width = 20,bg = \"NavajoWhite3\",command = eur).place(x = 290, y = 250)\n",
    "b3 = tk.Button(top,text = \"POUND\",width = 20,bg = \"NavajoWhite3\",command = pound).place(x = 290, y = 280)\n",
    "b4 = tk.Button(top,text = \"DINAR\",width = 20,bg = \"NavajoWhite3\",command = dinar).place(x = 290, y = 310)\n",
    "top.mainloop()"
   ]
  },
  {
   "cell_type": "code",
   "execution_count": null,
   "id": "0404aa1e-727d-43a4-9996-7323b3669c41",
   "metadata": {},
   "outputs": [],
   "source": []
  }
 ],
 "metadata": {
  "kernelspec": {
   "display_name": "Python 3 (ipykernel)",
   "language": "python",
   "name": "python3"
  },
  "language_info": {
   "codemirror_mode": {
    "name": "ipython",
    "version": 3
   },
   "file_extension": ".py",
   "mimetype": "text/x-python",
   "name": "python",
   "nbconvert_exporter": "python",
   "pygments_lexer": "ipython3",
   "version": "3.11.7"
  }
 },
 "nbformat": 4,
 "nbformat_minor": 5
}
